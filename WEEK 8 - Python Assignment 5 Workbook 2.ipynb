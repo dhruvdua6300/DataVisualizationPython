{
 "cells": [
  {
   "cell_type": "code",
   "execution_count": 1,
   "metadata": {},
   "outputs": [],
   "source": [
    "import pandas as pd"
   ]
  },
  {
   "cell_type": "code",
   "execution_count": 2,
   "metadata": {},
   "outputs": [],
   "source": [
    "names = ['Bob','Jessica','Mary','John','Mel'] \n",
    "grades = [76,95,77,78,99] \n",
    "bsdegrees = [1,1,0,0,1] \n",
    "msdegrees = [2,1,0,0,0]\n",
    "phddegrees = [0,1,0,0,0]"
   ]
  },
  {
   "cell_type": "code",
   "execution_count": 3,
   "metadata": {},
   "outputs": [],
   "source": [
    "Degrees = zip(names,grades,bsdegrees,msdegrees,phddegrees)"
   ]
  },
  {
   "cell_type": "code",
   "execution_count": 4,
   "metadata": {},
   "outputs": [],
   "source": [
    "columns = ['Names','Grades','BS','MS','PhD'] "
   ]
  },
  {
   "cell_type": "code",
   "execution_count": 5,
   "metadata": {},
   "outputs": [],
   "source": [
    "df = pd.DataFrame(data = Degrees, columns=columns)"
   ]
  },
  {
   "cell_type": "code",
   "execution_count": 15,
   "metadata": {},
   "outputs": [
    {
     "name": "stdout",
     "output_type": "stream",
     "text": [
      "Count of given Data\n",
      "Names     5\n",
      "Grades    5\n",
      "BS        5\n",
      "MS        5\n",
      "PhD       5\n",
      "dtype: int64\n"
     ]
    }
   ],
   "source": [
    "print('Count of given Data')\n",
    "print(df.count())\n",
    "\n",
    "\n",
    "\n",
    "\n",
    "\n",
    "\n"
   ]
  },
  {
   "cell_type": "code",
   "execution_count": 16,
   "metadata": {},
   "outputs": [
    {
     "name": "stdout",
     "output_type": "stream",
     "text": [
      "\n",
      "Mean of given Data\n",
      "Grades    85.0\n",
      "BS         0.6\n",
      "MS         0.6\n",
      "PhD        0.2\n",
      "dtype: float64\n"
     ]
    }
   ],
   "source": [
    "print('\\nMean of given Data')\n",
    "print(df.mean())"
   ]
  },
  {
   "cell_type": "code",
   "execution_count": 17,
   "metadata": {},
   "outputs": [
    {
     "name": "stdout",
     "output_type": "stream",
     "text": [
      "\n",
      "Standard Deviation of given Data\n",
      "Grades    11.067972\n",
      "BS         0.547723\n",
      "MS         0.894427\n",
      "PhD        0.447214\n",
      "dtype: float64\n"
     ]
    }
   ],
   "source": [
    "print('\\nStandard Deviation of given Data')\n",
    "print(df.std())"
   ]
  },
  {
   "cell_type": "code",
   "execution_count": 18,
   "metadata": {},
   "outputs": [
    {
     "name": "stdout",
     "output_type": "stream",
     "text": [
      "\n",
      "min of given Data\n",
      "Names     Bob\n",
      "Grades     76\n",
      "BS          0\n",
      "MS          0\n",
      "PhD         0\n",
      "dtype: object\n"
     ]
    }
   ],
   "source": [
    "print('\\nmin of given Data')\n",
    "print(df.min())"
   ]
  },
  {
   "cell_type": "code",
   "execution_count": 19,
   "metadata": {},
   "outputs": [
    {
     "name": "stdout",
     "output_type": "stream",
     "text": [
      "\n",
      "max of given Data\n",
      "Names     Mel\n",
      "Grades     99\n",
      "BS          1\n",
      "MS          2\n",
      "PhD         1\n",
      "dtype: object\n"
     ]
    }
   ],
   "source": [
    "print('\\nmax of given Data')\n",
    "print(df.max())"
   ]
  },
  {
   "cell_type": "code",
   "execution_count": 20,
   "metadata": {},
   "outputs": [
    {
     "name": "stdout",
     "output_type": "stream",
     "text": [
      "\n",
      "first quartile of given Data\n",
      "Grades    77.0\n",
      "BS         0.0\n",
      "MS         0.0\n",
      "PhD        0.0\n",
      "Name: 0.25, dtype: float64\n"
     ]
    }
   ],
   "source": [
    "print('\\nfirst quartile of given Data')\n",
    "print(df.quantile(0.25))"
   ]
  },
  {
   "cell_type": "code",
   "execution_count": 21,
   "metadata": {},
   "outputs": [
    {
     "name": "stdout",
     "output_type": "stream",
     "text": [
      "\n",
      "second quartile of given Data\n",
      "Grades    78.0\n",
      "BS         1.0\n",
      "MS         0.0\n",
      "PhD        0.0\n",
      "Name: 0.5, dtype: float64\n"
     ]
    }
   ],
   "source": [
    "print('\\nsecond quartile of given Data')\n",
    "print(df.quantile(0.5))"
   ]
  },
  {
   "cell_type": "code",
   "execution_count": 22,
   "metadata": {},
   "outputs": [
    {
     "name": "stdout",
     "output_type": "stream",
     "text": [
      "\n",
      "third quartile of given Data\n",
      "Grades    95.0\n",
      "BS         1.0\n",
      "MS         1.0\n",
      "PhD        0.0\n",
      "Name: 0.75, dtype: float64\n"
     ]
    }
   ],
   "source": [
    "print('\\nthird quartile of given Data')\n",
    "print(df.quantile(0.75))"
   ]
  },
  {
   "cell_type": "code",
   "execution_count": 23,
   "metadata": {},
   "outputs": [
    {
     "name": "stdout",
     "output_type": "stream",
     "text": [
      "\n",
      "var of given Data\n",
      "Grades    122.5\n",
      "BS          0.3\n",
      "MS          0.8\n",
      "PhD         0.2\n",
      "dtype: float64\n"
     ]
    }
   ],
   "source": [
    "\n",
    "print('\\nvar of given Data')\n",
    "print(df.var())"
   ]
  },
  {
   "cell_type": "code",
   "execution_count": null,
   "metadata": {},
   "outputs": [],
   "source": []
  }
 ],
 "metadata": {
  "kernelspec": {
   "display_name": "Python 3",
   "language": "python",
   "name": "python3"
  },
  "language_info": {
   "codemirror_mode": {
    "name": "ipython",
    "version": 3
   },
   "file_extension": ".py",
   "mimetype": "text/x-python",
   "name": "python",
   "nbconvert_exporter": "python",
   "pygments_lexer": "ipython3",
   "version": "3.7.4"
  }
 },
 "nbformat": 4,
 "nbformat_minor": 2
}
